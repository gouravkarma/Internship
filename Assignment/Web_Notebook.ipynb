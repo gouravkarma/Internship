{
 "cells": [
  {
   "cell_type": "code",
   "execution_count": 1,
   "id": "18ab4227",
   "metadata": {},
   "outputs": [
    {
     "name": "stdout",
     "output_type": "stream",
     "text": [
      "                  Player Team Rating\n",
      "0             Babar Azam  PAK    886\n",
      "1  Rassie van der Dussen   SA    777\n",
      "2           Fakhar Zaman  PAK    755\n",
      "3            Imam-ul-Haq  PAK    745\n",
      "4           Shubman Gill  IND    738\n",
      "5           Harry Tector  IRE    726\n",
      "6           David Warner  AUS    726\n",
      "7            Virat Kohli  IND    719\n",
      "8        Quinton de Kock   SA    718\n",
      "9           Rohit Sharma  IND    707\n"
     ]
    }
   ],
   "source": [
    "import requests\n",
    "from bs4 import BeautifulSoup\n",
    "import pandas as pd\n",
    "\n",
    "# Send a GET request to the ICC Cricket rankings page\n",
    "url = 'https://www.icc-cricket.com/rankings/mens/player-rankings/odi/batting'\n",
    "response = requests.get(url)\n",
    "\n",
    "# Create a BeautifulSoup object to parse the HTML content\n",
    "soup = BeautifulSoup(response.content, 'html.parser')\n",
    "\n",
    "# Find the table containing the rankings\n",
    "table = soup.find('table', class_='table')\n",
    "\n",
    "# Initialize empty lists to store the data\n",
    "players = []\n",
    "teams = []\n",
    "ratings = []\n",
    "\n",
    "# Find all the rows in the table (excluding the table header)\n",
    "rows = table.find_all('tr')[1:11]  # Extracting the top 10 batsmen\n",
    "\n",
    "# Extract the data from each row\n",
    "for row in rows:\n",
    "    cells = row.find_all('td')\n",
    "    player = cells[1].text.strip()\n",
    "    team = cells[2].text.strip()\n",
    "    rating = cells[3].text.strip()\n",
    "    players.append(player)\n",
    "    teams.append(team)\n",
    "    ratings.append(rating)\n",
    "\n",
    "# Create a dataframe using the extracted data\n",
    "data = {'Player': players, 'Team': teams, 'Rating': ratings}\n",
    "df = pd.DataFrame(data)\n",
    "\n",
    "# Print the dataframe\n",
    "print(df)"
   ]
  },
  {
   "cell_type": "code",
   "execution_count": 3,
   "id": "3e021a18",
   "metadata": {},
   "outputs": [
    {
     "name": "stdout",
     "output_type": "stream",
     "text": [
      "Empty DataFrame\n",
      "Columns: [Headline, Time, News Link]\n",
      "Index: []\n"
     ]
    }
   ],
   "source": [
    "import requests\n",
    "from bs4 import BeautifulSoup\n",
    "import pandas as pd\n",
    "\n",
    "# Send a GET request to the news website\n",
    "url = 'https://www.cnbc.com/world/?region=world'\n",
    "response = requests.get(url)\n",
    "\n",
    "# Create a BeautifulSoup object to parse the HTML content\n",
    "soup = BeautifulSoup(response.content, 'html.parser')\n",
    "\n",
    "# Find the container div that holds the news articles\n",
    "container = soup.find('div', class_='PageBuilder-col-9')\n",
    "\n",
    "# Initialize empty lists to store the data\n",
    "headlines = []\n",
    "times = []\n",
    "links = []\n",
    "\n",
    "# Find all the news articles\n",
    "articles = container.find_all('div', class_='Card-title')\n",
    "\n",
    "# Extract the data from each article\n",
    "for article in articles:\n",
    "    # Extract the headline\n",
    "    headline = article.find('a').text.strip()\n",
    "    headlines.append(headline)\n",
    "    \n",
    "    # Extract the time\n",
    "    time = article.find('time').text.strip()\n",
    "    times.append(time)\n",
    "    \n",
    "    # Extract the news link\n",
    "    link = 'https://www.cnbc.com' + article.find('a')['href']\n",
    "    links.append(link)\n",
    "\n",
    "# Create a dataframe using the extracted data\n",
    "data = {'Headline': headlines, 'Time': times, 'News Link': links}\n",
    "df = pd.DataFrame(data)\n",
    "\n",
    "# Print the dataframe\n",
    "print(df)"
   ]
  },
  {
   "cell_type": "code",
   "execution_count": null,
   "id": "16762818",
   "metadata": {},
   "outputs": [],
   "source": []
  }
 ],
 "metadata": {
  "kernelspec": {
   "display_name": "Python 3 (ipykernel)",
   "language": "python",
   "name": "python3"
  },
  "language_info": {
   "codemirror_mode": {
    "name": "ipython",
    "version": 3
   },
   "file_extension": ".py",
   "mimetype": "text/x-python",
   "name": "python",
   "nbconvert_exporter": "python",
   "pygments_lexer": "ipython3",
   "version": "3.9.13"
  }
 },
 "nbformat": 4,
 "nbformat_minor": 5
}
