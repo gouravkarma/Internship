{
 "cells": [
  {
   "cell_type": "raw",
   "id": "79458374",
   "metadata": {},
   "source": [
    "Question:1"
   ]
  },
  {
   "cell_type": "code",
   "execution_count": 1,
   "id": "d79505f4",
   "metadata": {},
   "outputs": [],
   "source": [
    "# importing liberies\n",
    "import selenium\n",
    "import pandas as pd\n",
    "import time\n",
    "from bs4 import BeautifulSoup\n",
    "\n",
    "# importing selenium webdriver\n",
    "from selenium import webdriver\n",
    "\n",
    "#importing required Exception which needs to handle\n",
    "from selenium.common.exceptions import StaleElementReferenceException, NoSuchElementException\n",
    "\n",
    "#importing reguests\n",
    "import requests\n",
    "\n",
    "from selenium.webdriver.common.by import By"
   ]
  },
  {
   "cell_type": "code",
   "execution_count": 2,
   "id": "52e0174c",
   "metadata": {},
   "outputs": [],
   "source": [
    "driver=webdriver.Chrome(r\"C:\\Users\\pc\\Desktop\\chromedriver-win64\\chromedriver.exe\")"
   ]
  },
  {
   "cell_type": "code",
   "execution_count": 10,
   "id": "2adb1532",
   "metadata": {},
   "outputs": [],
   "source": [
    "driver.get(\"https://www.amazon.in/\")"
   ]
  },
  {
   "cell_type": "code",
   "execution_count": 11,
   "id": "e65b8a24",
   "metadata": {},
   "outputs": [
    {
     "name": "stdout",
     "output_type": "stream",
     "text": [
      "iteam:jeans\n"
     ]
    }
   ],
   "source": [
    "val=input(\"iteam:\")"
   ]
  },
  {
   "cell_type": "code",
   "execution_count": 12,
   "id": "e0abc0d4",
   "metadata": {},
   "outputs": [],
   "source": [
    "product=driver.find_element(By.XPATH,'/html/body/div[1]/header/div/div[1]/div[2]/div/form/div[2]/div[1]/input')\n",
    "product.send_keys(val)"
   ]
  },
  {
   "cell_type": "code",
   "execution_count": 13,
   "id": "dcb54fde",
   "metadata": {},
   "outputs": [],
   "source": [
    "search=driver.find_element(By.XPATH,'/html/body/div[1]/header/div/div[1]/div[2]/div/form/div[3]/div/span/input')\n",
    "search.click()"
   ]
  },
  {
   "cell_type": "code",
   "execution_count": null,
   "id": "34a08ee8",
   "metadata": {},
   "outputs": [],
   "source": []
  },
  {
   "cell_type": "raw",
   "id": "6b0fda75",
   "metadata": {},
   "source": [
    "Question:2"
   ]
  },
  {
   "cell_type": "code",
   "execution_count": 18,
   "id": "1eb02f53",
   "metadata": {},
   "outputs": [],
   "source": [
    "driver=webdriver.Chrome(r\"C:\\Users\\pc\\Desktop\\chromedriver-win64\\chromedriver.exe\")"
   ]
  },
  {
   "cell_type": "code",
   "execution_count": 19,
   "id": "07e4f6c4",
   "metadata": {},
   "outputs": [],
   "source": [
    "driver.get(\"https://www.amazon.in/\")"
   ]
  },
  {
   "cell_type": "code",
   "execution_count": 20,
   "id": "53ede31a",
   "metadata": {},
   "outputs": [],
   "source": [
    "product=driver.find_element(By.XPATH,'/html/body/div[1]/header/div/div[1]/div[2]/div/form/div[2]/div[1]/input')\n",
    "product.send_keys(\"guiter\")"
   ]
  },
  {
   "cell_type": "code",
   "execution_count": 21,
   "id": "2d85bb61",
   "metadata": {},
   "outputs": [],
   "source": [
    "search=driver.find_element(By.XPATH,'/html/body/div[1]/header/div/div[1]/div[2]/div/form/div[3]/div/span/input')\n",
    "search.click()"
   ]
  },
  {
   "cell_type": "code",
   "execution_count": 28,
   "id": "88c49368",
   "metadata": {},
   "outputs": [],
   "source": [
    "product_urls=[]\n",
    "start=0\n",
    "end=3\n",
    "for page in range(start,end):\n",
    "    url=driver.find_elements(By.XPATH,'//a[@class=\"a-link-normal s-underline-text s-underline-link-text s-link-style a-text-normal\"]')\n",
    "    for i in url:\n",
    "        product_urls.append(i.get_attribute(\"href\"))\n",
    "    button_next=driver.find_elements(By.XPATH,'/html/body/div[1]/div[2]/div[1]/div[1]/div/span[1]/div[1]/div[62]/div/div/span/a[3]')\n",
    "    "
   ]
  },
  {
   "cell_type": "code",
   "execution_count": 29,
   "id": "2a2ebd28",
   "metadata": {},
   "outputs": [
    {
     "data": {
      "text/plain": [
       "171"
      ]
     },
     "execution_count": 29,
     "metadata": {},
     "output_type": "execute_result"
    }
   ],
   "source": [
    "len(product_urls)"
   ]
  },
  {
   "cell_type": "code",
   "execution_count": 59,
   "id": "90790216",
   "metadata": {},
   "outputs": [],
   "source": [
    "brands=[]\n",
    "start=0\n",
    "end=3\n",
    "for page in range(start,end):\n",
    "    url=driver.find_elements(By.XPATH,'//span[@class=\"a-size-base-plus a-color-base a-text-normal\"]')\n",
    "    for i in url:\n",
    "        brands.append(i.text)\n",
    "    button_next=driver.find_elements(By.XPATH,'/html/body/div[1]/div[2]/div[1]/div[1]/div/span[1]/div[1]/div[62]/div/div/span/a[3]')"
   ]
  },
  {
   "cell_type": "code",
   "execution_count": 60,
   "id": "4646cf5c",
   "metadata": {},
   "outputs": [
    {
     "data": {
      "text/plain": [
       "162"
      ]
     },
     "execution_count": 60,
     "metadata": {},
     "output_type": "execute_result"
    }
   ],
   "source": [
    "len(brands)"
   ]
  },
  {
   "cell_type": "code",
   "execution_count": 61,
   "id": "f28549d6",
   "metadata": {},
   "outputs": [],
   "source": [
    "product=[]\n",
    "start=0\n",
    "end=3\n",
    "for page in range (start,end):\n",
    "    url=driver.find_elements(By.XPATH,'//span[@class=\"a-size-base-plus a-color-base a-text-normal\"]')\n",
    "    for i in url:\n",
    "        product.append(i.text)\n",
    "    button_next=driver.find_elements(By.XPATH,'/html/body/div[1]/div[2]/div[1]/div[1]/div/span[1]/div[1]/div[62]/div/div/span/a[3]')"
   ]
  },
  {
   "cell_type": "code",
   "execution_count": 62,
   "id": "608f9607",
   "metadata": {},
   "outputs": [
    {
     "data": {
      "text/plain": [
       "162"
      ]
     },
     "execution_count": 62,
     "metadata": {},
     "output_type": "execute_result"
    }
   ],
   "source": [
    "len(product)"
   ]
  },
  {
   "cell_type": "code",
   "execution_count": 57,
   "id": "e15d87ee",
   "metadata": {},
   "outputs": [],
   "source": [
    "price=[]\n",
    "start=0\n",
    "end=3\n",
    "for page in range(start,end):\n",
    "    url=driver.find_elements(By.XPATH,'//span[@class=\"a-price-whole\"]')\n",
    "    for i in url:\n",
    "        price.append(i.text)\n",
    "    button_next=driver.find_elements(By.XPATH,'/html/body/div[1]/div[2]/div[1]/div[1]/div/span[1]/div[1]/div[62]/div/div/span/a[3]')"
   ]
  },
  {
   "cell_type": "code",
   "execution_count": 58,
   "id": "3d957870",
   "metadata": {},
   "outputs": [
    {
     "data": {
      "text/plain": [
       "168"
      ]
     },
     "execution_count": 58,
     "metadata": {},
     "output_type": "execute_result"
    }
   ],
   "source": [
    "len(price)"
   ]
  },
  {
   "cell_type": "code",
   "execution_count": 64,
   "id": "a076ca85",
   "metadata": {},
   "outputs": [],
   "source": [
    "Return_exchange=[]\n",
    "start=0\n",
    "end=3\n",
    "for page in range (start,end):\n",
    "    url=driver.find_elements(By.XPATH,'//span[@class=\"a-size-small a-color-link a-text-normal\"]')\n",
    "    for i in url:\n",
    "        Return_exchange.append(i.text)\n",
    "    button_next=driver.find_elements(By.XPATH,'/html/body/div[1]/div[2]/div[1]/div[1]/div/span[1]/div[1]/div[62]/div/div/span/a[3]')"
   ]
  },
  {
   "cell_type": "code",
   "execution_count": 65,
   "id": "b6fcccdf",
   "metadata": {},
   "outputs": [],
   "source": [
    "available=[]\n",
    "start=0\n",
    "end=3\n",
    "for page in range (start,end):\n",
    "    url=driver.find_elements(By.XPATH,'//span[@class=\"a-size-medium a-color-success\"]')\n",
    "    for i in url:\n",
    "        brands.append(i.text)\n",
    "    button_next=driver.find_elements(By.XPATH,'/html/body/div[1]/div[2]/div[1]/div[1]/div/span[1]/div[1]/div[62]/div/div/span/a[3]')"
   ]
  },
  {
   "cell_type": "code",
   "execution_count": null,
   "id": "a98a07b7",
   "metadata": {},
   "outputs": [],
   "source": []
  },
  {
   "cell_type": "raw",
   "id": "58425638",
   "metadata": {},
   "source": [
    "Question:3"
   ]
  },
  {
   "cell_type": "code",
   "execution_count": 67,
   "id": "103f4127",
   "metadata": {},
   "outputs": [],
   "source": [
    "import time\n",
    "import os\n",
    "from selenium import webdriver\n",
    "from selenium.webdriver.common.by import By\n",
    "from selenium.webdriver.common.keys import Keys\n",
    "from selenium.webdriver.chrome.options import Options\n",
    "from selenium.webdriver.support.ui import WebDriverWait\n",
    "from selenium.webdriver.support import expected_conditions as EC\n"
   ]
  },
  {
   "cell_type": "code",
   "execution_count": null,
   "id": "90e98e09",
   "metadata": {},
   "outputs": [],
   "source": [
    "def scrape_images(keyword, num_images=10):\n",
    "    # Configure Chrome driver options\n",
    "    chrome_options = Options()\n",
    "    chrome_options.add_argument(\"--headless\")  # Run the browser in headless mode to speed up the process\n",
    "    driver = webdriver.Chrome(options=chrome_options)\n",
    "\n",
    "    try:\n",
    "        # Navigate to images.google.com\n",
    "        driver.get(\"https://images.google.com/\")\n",
    "\n",
    "        # Find and fill the search bar\n",
    "        search_bar = WebDriverWait(driver, 10).until(EC.presence_of_element_located((By.NAME, \"q\")))\n",
    "        search_bar.clear()\n",
    "        search_bar.send_keys(keyword)\n",
    "        search_bar.send_keys(Keys.ENTER)\n",
    "\n",
    "        # Wait for the search results to load\n",
    "        time.sleep(3)\n",
    "\n",
    "        # Scroll to load more images\n",
    "        for _ in range(3):  # Adjust the number of scrolls to load more images\n",
    "            driver.execute_script(\"window.scrollTo(0, document.body.scrollHeight);\")\n",
    "            time.sleep(2)\n",
    "\n",
    "        # Extract the page source\n",
    "        page_source = driver.page_source\n",
    "\n",
    "        # Scrape image URLs from the page source using regex (you can use BeautifulSoup if preferred)\n",
    "        import re\n",
    "        pattern = r\"src=\\\"(https://[\\w\\-./?%&=]+)\\\"\"\n",
    "        image_urls = re.findall(pattern, page_source)\n",
    "\n",
    "        # Filter out any None values in the URLs\n",
    "        image_urls = [url for url in image_urls if url]\n",
    "\n",
    "        # Limit the number of images to scrape (if less than num_images)\n",
    "        image_urls = image_urls[:num_images]\n",
    "\n",
    "        # Create a directory for the keyword if it doesn't exist\n",
    "        if not os.path.exists(keyword):\n",
    "            os.makedirs(keyword)\n",
    "\n",
    "        # Download images and save them locally\n",
    "        for i, url in enumerate(image_urls, 1):\n",
    "            try:\n",
    "                response = webdriver.Chrome().get(url)\n",
    "                with open(f\"{keyword}/{keyword}_{i}.jpg\", \"wb\") as f:\n",
    "                    f.write(response.content)\n",
    "                print(f\"Image {i} of {keyword} downloaded successfully.\")\n",
    "            except Exception as e:\n",
    "                print(f\"Failed to download image {i} of {keyword}: {e}\")\n",
    "\n",
    "    finally:\n",
    "        # Close the browser\n",
    "        driver.quit()\n",
    "\n",
    "if __name__ == \"__main__\":\n",
    "    keywords = ['fruits', 'cars', 'Machine Learning', 'Guitar', 'Cakes']\n",
    "    num_images_per_keyword = 10\n",
    "\n",
    "    for keyword in keywords:\n",
    "        scrape_images(keyword, num_images=num_images_per_keyword)"
   ]
  },
  {
   "cell_type": "code",
   "execution_count": null,
   "id": "ad85d59b",
   "metadata": {},
   "outputs": [],
   "source": []
  },
  {
   "cell_type": "raw",
   "id": "63b0a7f2",
   "metadata": {},
   "source": [
    "Question:4"
   ]
  },
  {
   "cell_type": "code",
   "execution_count": 71,
   "id": "17dae5dc",
   "metadata": {},
   "outputs": [],
   "source": [
    "driver=webdriver.Chrome(r\"C:\\Users\\pc\\Desktop\\chromedriver-win64\\chromedriver.exe\")"
   ]
  },
  {
   "cell_type": "code",
   "execution_count": 72,
   "id": "6660947a",
   "metadata": {},
   "outputs": [],
   "source": [
    "driver.get(\"http://www.flipkart.com/\")"
   ]
  },
  {
   "cell_type": "code",
   "execution_count": 74,
   "id": "501bf57f",
   "metadata": {},
   "outputs": [],
   "source": [
    "smartphone=driver.find_element(By.XPATH,'/html/body/div[1]/div/div[1]/div[1]/div[2]/div[2]/form/div/div/input')\n",
    "smartphone.send_keys(\"Oneplus Nord, pixel 4A\")"
   ]
  },
  {
   "cell_type": "code",
   "execution_count": 78,
   "id": "1b40c782",
   "metadata": {},
   "outputs": [],
   "source": [
    "search=driver.find_element(By.XPATH,'/html/body/div[1]/div/div[1]/div[1]/div[2]/div[2]/form/div/button')\n",
    "search.click()"
   ]
  },
  {
   "cell_type": "code",
   "execution_count": 79,
   "id": "38877d7f",
   "metadata": {},
   "outputs": [],
   "source": [
    "product_urls=[]\n",
    "start=0\n",
    "end=1\n",
    "for page in range(start,end):\n",
    "    url=driver.find_elements(By.XPATH,'//a[@class=\"_1fQZEK\"]')\n",
    "    for i in url:\n",
    "        product_urls.append(i.get_attribute(\"href\"))\n",
    "   \n",
    "    "
   ]
  },
  {
   "cell_type": "code",
   "execution_count": 80,
   "id": "a1adf7ec",
   "metadata": {},
   "outputs": [
    {
     "data": {
      "text/plain": [
       "8"
      ]
     },
     "execution_count": 80,
     "metadata": {},
     "output_type": "execute_result"
    }
   ],
   "source": [
    "len(product_urls)"
   ]
  },
  {
   "cell_type": "code",
   "execution_count": 81,
   "id": "9f792ed3",
   "metadata": {},
   "outputs": [
    {
     "data": {
      "text/plain": [
       "['https://www.flipkart.com/oneplus-nord-gray-onyx-64-gb/p/itm49f817b591982?pid=MOBFUE5H57THFNVJ&lid=LSTMOBFUE5H57THFNVJNPNANV&marketplace=FLIPKART&q=Oneplus+Nord%2C+pixel+4A&store=tyy%2F4io&srno=s_1_1&otracker=search&otracker1=search&fm=organic&iid=88ec383b-1d3e-459c-9963-6919f966e5ce.MOBFUE5H57THFNVJ.SEARCH&ppt=hp&ppn=homepage&ssid=ch6q33jduo0000001691615715058&qH=51e22a8c2f127b5e',\n",
       " 'https://www.flipkart.com/oneplus-nord-blue-marble-128-gb/p/itm3f93c90430130?pid=MOBFUE5JWYDZX6HX&lid=LSTMOBFUE5JWYDZX6HX2BOYAS&marketplace=FLIPKART&q=Oneplus+Nord%2C+pixel+4A&store=tyy%2F4io&srno=s_1_2&otracker=search&otracker1=search&fm=organic&iid=88ec383b-1d3e-459c-9963-6919f966e5ce.MOBFUE5JWYDZX6HX.SEARCH&ppt=hp&ppn=homepage&ssid=ch6q33jduo0000001691615715058&qH=51e22a8c2f127b5e',\n",
       " 'https://www.flipkart.com/oneplus-nord-gray-onyx-128-gb/p/itm3f93c90430130?pid=MOBFUE5HW4XUUGBN&lid=LSTMOBFUE5HW4XUUGBN2VPNLY&marketplace=FLIPKART&q=Oneplus+Nord%2C+pixel+4A&store=tyy%2F4io&srno=s_1_3&otracker=search&otracker1=search&fm=organic&iid=88ec383b-1d3e-459c-9963-6919f966e5ce.MOBFUE5HW4XUUGBN.SEARCH&ppt=hp&ppn=homepage&ssid=ch6q33jduo0000001691615715058&qH=51e22a8c2f127b5e',\n",
       " 'https://www.flipkart.com/oneplus-nord-blue-marble-64-gb/p/itm49f817b591982?pid=MOBFUE5N7KAGZHHC&lid=LSTMOBFUE5N7KAGZHHCUOBN3W&marketplace=FLIPKART&q=Oneplus+Nord%2C+pixel+4A&store=tyy%2F4io&srno=s_1_4&otracker=search&otracker1=search&fm=organic&iid=88ec383b-1d3e-459c-9963-6919f966e5ce.MOBFUE5N7KAGZHHC.SEARCH&ppt=hp&ppn=homepage&ssid=ch6q33jduo0000001691615715058&qH=51e22a8c2f127b5e',\n",
       " 'https://www.flipkart.com/oneplus-nord-gray-onyx-256-gb/p/itm49f817b591982?pid=MOBFUE5GGWHFC37J&lid=LSTMOBFUE5GGWHFC37JNXZLYZ&marketplace=FLIPKART&q=Oneplus+Nord%2C+pixel+4A&store=tyy%2F4io&srno=s_1_5&otracker=search&otracker1=search&fm=organic&iid=88ec383b-1d3e-459c-9963-6919f966e5ce.MOBFUE5GGWHFC37J.SEARCH&ppt=hp&ppn=homepage&ssid=ch6q33jduo0000001691615715058&qH=51e22a8c2f127b5e',\n",
       " 'https://www.flipkart.com/oneplus-nord-blue-marble-256-gb/p/itm3f93c90430130?pid=MOBFUE5HUU5ZYGRY&lid=LSTMOBFUE5HUU5ZYGRY4ZWZZN&marketplace=FLIPKART&q=Oneplus+Nord%2C+pixel+4A&store=tyy%2F4io&srno=s_1_6&otracker=search&otracker1=search&fm=organic&iid=88ec383b-1d3e-459c-9963-6919f966e5ce.MOBFUE5HUU5ZYGRY.SEARCH&ppt=hp&ppn=homepage&ssid=ch6q33jduo0000001691615715058&qH=51e22a8c2f127b5e',\n",
       " 'https://www.flipkart.com/oneplus-nord-ce-2-5g-gray-mirror-128-gb/p/itm2a9883679c57c?pid=MOBGDHWMFQBKFV5F&lid=LSTMOBGDHWMFQBKFV5FAU6CVT&marketplace=FLIPKART&q=Oneplus+Nord%2C+pixel+4A&store=tyy%2F4io&srno=s_1_7&otracker=search&otracker1=search&fm=organic&iid=88ec383b-1d3e-459c-9963-6919f966e5ce.MOBGDHWMFQBKFV5F.SEARCH&ppt=hp&ppn=homepage&ssid=ch6q33jduo0000001691615715058&qH=51e22a8c2f127b5e',\n",
       " 'https://www.flipkart.com/oneplus-nord-ce-2-5g-gray-mirror-128-gb/p/itme3c94dc3fc910?pid=MOBGJMUHX7ACJ44Z&lid=LSTMOBGJMUHX7ACJ44ZUMG0PU&marketplace=FLIPKART&q=Oneplus+Nord%2C+pixel+4A&store=tyy%2F4io&srno=s_1_8&otracker=search&otracker1=search&fm=organic&iid=88ec383b-1d3e-459c-9963-6919f966e5ce.MOBGJMUHX7ACJ44Z.SEARCH&ppt=hp&ppn=homepage&ssid=ch6q33jduo0000001691615715058&qH=51e22a8c2f127b5e']"
      ]
     },
     "execution_count": 81,
     "metadata": {},
     "output_type": "execute_result"
    }
   ],
   "source": [
    "product_urls"
   ]
  },
  {
   "cell_type": "code",
   "execution_count": 87,
   "id": "fce83646",
   "metadata": {},
   "outputs": [],
   "source": [
    "Brand_name=[]\n",
    "start=0\n",
    "end=1\n",
    "for page in range(start,end):\n",
    "    url=driver.find_elements(By.XPATH,'//div[@class=\"_4rR01T\"]')\n",
    "    for i in url:\n",
    "        Brand_name.append(i.text)\n",
    "        \n",
    "        \n",
    "smartphone=[]\n",
    "start=0\n",
    "end=1\n",
    "for page in range(start,end):\n",
    "    url=driver.find_elements(By.XPATH,'//div[@class=\"_4rR01T\"]')\n",
    "    for i in url:\n",
    "        product_urls.append(i.text)\n",
    "        \n",
    "        \n",
    "colour=[]\n",
    "start=0\n",
    "end=1\n",
    "for page in range(start,end):\n",
    "    url=driver.find_elements(By.XPATH,'//div[@class=\"_4rR01T\"]')\n",
    "    for i in url:\n",
    "        colour.append(i.text)\n",
    "        \n",
    "        \n",
    "Ram=[]\n",
    "start=0\n",
    "end=1\n",
    "for page in range(start,end):\n",
    "    url=driver.find_elements(By.XPATH,'//a[@class=\"_1fQZEK\"]')\n",
    "    for i in url:\n",
    "        Ram.append(i.text)\n",
    "        \n",
    "        \n",
    "Rom=[]\n",
    "start=0\n",
    "end=1\n",
    "for page in range(start,end):\n",
    "    url=driver.find_elements(By.XPATH,'//li[@class=\"rgWa7D\"]')\n",
    "    for i in url:\n",
    "        Rom.append(i.text)\n",
    "        \n",
    "        \n",
    "camera=[]\n",
    "start=0\n",
    "end=1\n",
    "for page in range(start,end):\n",
    "    url=driver.find_elements(By.XPATH,'//li[@class=\"rgWa7D\"]')\n",
    "    for i in url:\n",
    "        camera.append(i.text)\n",
    "        \n",
    "        \n",
    "display=[]\n",
    "start=0\n",
    "end=1\n",
    "for page in range(start,end):\n",
    "    url=driver.find_elements(By.XPATH,'//li[@class=\"rgWa7D\"]')\n",
    "    for i in url:\n",
    "        price.append(i.text)\n",
    "        \n",
    "price=[]\n",
    "start=0\n",
    "end=1\n",
    "for page in range(start,end):\n",
    "    url=driver.find_elements(By.XPATH,'//div[@class=\"_30jeq3 _1_WHN1\"]')\n",
    "    for i in url:\n",
    "        price.append(i.text)\n",
    "   "
   ]
  },
  {
   "cell_type": "code",
   "execution_count": 93,
   "id": "38988555",
   "metadata": {},
   "outputs": [
    {
     "data": {
      "text/plain": [
       "(8, 8, 8, 8)"
      ]
     },
     "execution_count": 93,
     "metadata": {},
     "output_type": "execute_result"
    }
   ],
   "source": [
    "len(Brand_name),len(colour),len(Ram),len(price)"
   ]
  },
  {
   "cell_type": "code",
   "execution_count": 96,
   "id": "6e888ee4",
   "metadata": {},
   "outputs": [
    {
     "data": {
      "text/html": [
       "<div>\n",
       "<style scoped>\n",
       "    .dataframe tbody tr th:only-of-type {\n",
       "        vertical-align: middle;\n",
       "    }\n",
       "\n",
       "    .dataframe tbody tr th {\n",
       "        vertical-align: top;\n",
       "    }\n",
       "\n",
       "    .dataframe thead th {\n",
       "        text-align: right;\n",
       "    }\n",
       "</style>\n",
       "<table border=\"1\" class=\"dataframe\">\n",
       "  <thead>\n",
       "    <tr style=\"text-align: right;\">\n",
       "      <th></th>\n",
       "      <th>BRAND</th>\n",
       "      <th>COLOUR</th>\n",
       "      <th>RAM</th>\n",
       "      <th>Price</th>\n",
       "    </tr>\n",
       "  </thead>\n",
       "  <tbody>\n",
       "    <tr>\n",
       "      <th>0</th>\n",
       "      <td>OnePlus Nord (Gray Onyx, 64 GB)</td>\n",
       "      <td>OnePlus Nord (Gray Onyx, 64 GB)</td>\n",
       "      <td>Add to Compare\\nOnePlus Nord (Gray Onyx, 64 GB...</td>\n",
       "      <td>₹22,890</td>\n",
       "    </tr>\n",
       "    <tr>\n",
       "      <th>1</th>\n",
       "      <td>OnePlus Nord (Blue Marble, 128 GB)</td>\n",
       "      <td>OnePlus Nord (Blue Marble, 128 GB)</td>\n",
       "      <td>Add to Compare\\nOnePlus Nord (Blue Marble, 128...</td>\n",
       "      <td>₹25,990</td>\n",
       "    </tr>\n",
       "    <tr>\n",
       "      <th>2</th>\n",
       "      <td>OnePlus Nord (Gray Onyx, 128 GB)</td>\n",
       "      <td>OnePlus Nord (Gray Onyx, 128 GB)</td>\n",
       "      <td>Add to Compare\\nOnePlus Nord (Gray Onyx, 128 G...</td>\n",
       "      <td>₹25,990</td>\n",
       "    </tr>\n",
       "    <tr>\n",
       "      <th>3</th>\n",
       "      <td>OnePlus Nord (Blue Marble, 64 GB)</td>\n",
       "      <td>OnePlus Nord (Blue Marble, 64 GB)</td>\n",
       "      <td>Currently unavailable\\nAdd to Compare\\nOnePlus...</td>\n",
       "      <td>₹22,980</td>\n",
       "    </tr>\n",
       "    <tr>\n",
       "      <th>4</th>\n",
       "      <td>OnePlus Nord (Gray Onyx, 256 GB)</td>\n",
       "      <td>OnePlus Nord (Gray Onyx, 256 GB)</td>\n",
       "      <td>Currently unavailable\\nAdd to Compare\\nOnePlus...</td>\n",
       "      <td>₹22,999</td>\n",
       "    </tr>\n",
       "    <tr>\n",
       "      <th>5</th>\n",
       "      <td>OnePlus Nord (Blue Marble, 256 GB)</td>\n",
       "      <td>OnePlus Nord (Blue Marble, 256 GB)</td>\n",
       "      <td>Currently unavailable\\nAdd to Compare\\nOnePlus...</td>\n",
       "      <td>₹21,999</td>\n",
       "    </tr>\n",
       "    <tr>\n",
       "      <th>6</th>\n",
       "      <td>OnePlus Nord CE 2 5G (Gray Mirror, 128 GB)</td>\n",
       "      <td>OnePlus Nord CE 2 5G (Gray Mirror, 128 GB)</td>\n",
       "      <td>Currently unavailable\\nAdd to Compare\\nOnePlus...</td>\n",
       "      <td>₹17,999</td>\n",
       "    </tr>\n",
       "    <tr>\n",
       "      <th>7</th>\n",
       "      <td>OnePlus Nord CE 2 5G (Gray Mirror, 128 GB)</td>\n",
       "      <td>OnePlus Nord CE 2 5G (Gray Mirror, 128 GB)</td>\n",
       "      <td>Currently unavailable\\nAdd to Compare\\nOnePlus...</td>\n",
       "      <td>₹19,999</td>\n",
       "    </tr>\n",
       "  </tbody>\n",
       "</table>\n",
       "</div>"
      ],
      "text/plain": [
       "                                        BRAND  \\\n",
       "0             OnePlus Nord (Gray Onyx, 64 GB)   \n",
       "1          OnePlus Nord (Blue Marble, 128 GB)   \n",
       "2            OnePlus Nord (Gray Onyx, 128 GB)   \n",
       "3           OnePlus Nord (Blue Marble, 64 GB)   \n",
       "4            OnePlus Nord (Gray Onyx, 256 GB)   \n",
       "5          OnePlus Nord (Blue Marble, 256 GB)   \n",
       "6  OnePlus Nord CE 2 5G (Gray Mirror, 128 GB)   \n",
       "7  OnePlus Nord CE 2 5G (Gray Mirror, 128 GB)   \n",
       "\n",
       "                                       COLOUR  \\\n",
       "0             OnePlus Nord (Gray Onyx, 64 GB)   \n",
       "1          OnePlus Nord (Blue Marble, 128 GB)   \n",
       "2            OnePlus Nord (Gray Onyx, 128 GB)   \n",
       "3           OnePlus Nord (Blue Marble, 64 GB)   \n",
       "4            OnePlus Nord (Gray Onyx, 256 GB)   \n",
       "5          OnePlus Nord (Blue Marble, 256 GB)   \n",
       "6  OnePlus Nord CE 2 5G (Gray Mirror, 128 GB)   \n",
       "7  OnePlus Nord CE 2 5G (Gray Mirror, 128 GB)   \n",
       "\n",
       "                                                 RAM    Price  \n",
       "0  Add to Compare\\nOnePlus Nord (Gray Onyx, 64 GB...  ₹22,890  \n",
       "1  Add to Compare\\nOnePlus Nord (Blue Marble, 128...  ₹25,990  \n",
       "2  Add to Compare\\nOnePlus Nord (Gray Onyx, 128 G...  ₹25,990  \n",
       "3  Currently unavailable\\nAdd to Compare\\nOnePlus...  ₹22,980  \n",
       "4  Currently unavailable\\nAdd to Compare\\nOnePlus...  ₹22,999  \n",
       "5  Currently unavailable\\nAdd to Compare\\nOnePlus...  ₹21,999  \n",
       "6  Currently unavailable\\nAdd to Compare\\nOnePlus...  ₹17,999  \n",
       "7  Currently unavailable\\nAdd to Compare\\nOnePlus...  ₹19,999  "
      ]
     },
     "execution_count": 96,
     "metadata": {},
     "output_type": "execute_result"
    }
   ],
   "source": [
    "import pandas as pd\n",
    "df=pd.DataFrame({'BRAND':Brand_name,'COLOUR':colour,'RAM':Ram,'Price':price})\n",
    "df"
   ]
  },
  {
   "cell_type": "code",
   "execution_count": null,
   "id": "910511fc",
   "metadata": {},
   "outputs": [],
   "source": []
  },
  {
   "cell_type": "code",
   "execution_count": null,
   "id": "abdbcf68",
   "metadata": {},
   "outputs": [],
   "source": [
    "Question:5"
   ]
  },
  {
   "cell_type": "code",
   "execution_count": null,
   "id": "81d3cd23",
   "metadata": {},
   "outputs": [],
   "source": [
    "driver=webdriver.Chrome(r\"C:\\Users\\pc\\Desktop\\chromedriver-win64\\chromedriver.exe\")"
   ]
  },
  {
   "cell_type": "code",
   "execution_count": null,
   "id": "316116e0",
   "metadata": {},
   "outputs": [],
   "source": [
    "def get_coordinates(city):\n",
    "    # Configure Chrome driver options\n",
    "    chrome_options = Options()\n",
    "    chrome_options.add_argument(\"--headless\")  # Run the browser in headless mode to speed up the process\n",
    "    driver = webdriver.Chrome(options=chrome_options)\n",
    "\n",
    "    try:\n",
    "        # Navigate to Google Maps\n",
    "        driver.get(\"https://www.google.com/maps\")\n",
    "\n",
    "        # Find and fill the search bar\n",
    "        search_box = driver.find_element(By.ID, \"searchboxinput\")\n",
    "        search_box.send_keys(city)\n",
    "        search_box.submit()\n",
    "\n",
    "        # Wait for the map to load\n",
    "        time.sleep(3)\n",
    "\n",
    "        # Extract the page source\n",
    "        page_source = driver.page_source\n",
    "\n",
    "        # Create BeautifulSoup object to parse the page source\n",
    "        soup = BeautifulSoup(page_source, \"html.parser\")\n",
    "\n",
    "        # Find the coordinates from the URL\n",
    "        try:\n",
    "            url = driver.current_url\n",
    "            lat_index = url.index(\"@\") + 1\n",
    "            lat_lng = url[lat_index:].split(\",\")[0].split(\"/\")\n",
    "            latitude = lat_lng[0]\n",
    "            longitude = lat_lng[1]\n",
    "            print(f\"Coordinates of {city}: Latitude: {latitude}, Longitude: {longitude}\")\n",
    "        except Exception as e:\n",
    "            print(f\"Failed to get coordinates for {city}: {e}\")\n",
    "\n",
    "    finally:\n",
    "        # Close the browser\n",
    "        driver.quit()\n",
    "\n",
    "if __name__ == \"__main__\":\n",
    "    user_input = input(\"Enter the city name to get coordinates from Google Maps: \")\n",
    "    get_coordinates(user_input)"
   ]
  },
  {
   "cell_type": "code",
   "execution_count": null,
   "id": "a5d36baa",
   "metadata": {},
   "outputs": [],
   "source": []
  },
  {
   "cell_type": "code",
   "execution_count": null,
   "id": "d52a63e3",
   "metadata": {},
   "outputs": [],
   "source": [
    "Question:6"
   ]
  },
  {
   "cell_type": "code",
   "execution_count": 97,
   "id": "581b4744",
   "metadata": {},
   "outputs": [],
   "source": [
    "driver=webdriver.Chrome(r\"C:\\Users\\pc\\Desktop\\chromedriver-win64\\chromedriver.exe\")"
   ]
  },
  {
   "cell_type": "code",
   "execution_count": 99,
   "id": "4bf6e176",
   "metadata": {},
   "outputs": [],
   "source": [
    "driver.get('https://www.digit.in/')"
   ]
  },
  {
   "cell_type": "code",
   "execution_count": 101,
   "id": "f224f84b",
   "metadata": {},
   "outputs": [],
   "source": [
    "laptop=driver.find_element(By.XPATH,'/html/body/div[2]/div/ul/li[2]/span')\n",
    "laptop.click()"
   ]
  },
  {
   "cell_type": "code",
   "execution_count": 102,
   "id": "fdc07bad",
   "metadata": {},
   "outputs": [],
   "source": [
    "best=driver.find_element(By.XPATH,'/html/body/div[2]/div/ul/li[2]/div[3]/div/div[1]/span[4]/strong')\n",
    "best.click()"
   ]
  },
  {
   "cell_type": "code",
   "execution_count": 104,
   "id": "491fb94e",
   "metadata": {},
   "outputs": [],
   "source": [
    "best_gameing_laptop=driver.find_element(By.XPATH,'/html/body/div[2]/div/ul/li[2]/div[3]/div/div[5]/div/div[2]/a/span')\n",
    "best_gameing_laptop.click()"
   ]
  },
  {
   "cell_type": "code",
   "execution_count": 109,
   "id": "e38e4a98",
   "metadata": {},
   "outputs": [],
   "source": [
    "Company_Name=[]\n"
   ]
  },
  {
   "cell_type": "code",
   "execution_count": 110,
   "id": "bd62fbaa",
   "metadata": {},
   "outputs": [],
   "source": [
    "for i in driver.find_elements(By.XPATH,'//span[@class=\"datahreflink\"]'):\n",
    "    Company_Name.append(i.text)\n",
    "\n",
    " "
   ]
  },
  {
   "cell_type": "code",
   "execution_count": 112,
   "id": "05b8e31b",
   "metadata": {},
   "outputs": [
    {
     "data": {
      "text/plain": [
       "['HP OMEN 17 (2023)',\n",
       " 'MSI Titan GT77 12UHS',\n",
       " 'Lenovo Legion 5i Pro',\n",
       " 'ASUS ROG Strix Scar 18 2023',\n",
       " 'Acer Predator Helios Neo 16',\n",
       " 'ASUS ROG Zephyrus G14',\n",
       " 'MSI Cyborg 15',\n",
       " 'CURRENT / PAST ISSUE',\n",
       " 'MAGAZINE SUBSCRIPTION']"
      ]
     },
     "execution_count": 112,
     "metadata": {},
     "output_type": "execute_result"
    }
   ],
   "source": [
    "Company_Name"
   ]
  },
  {
   "cell_type": "code",
   "execution_count": null,
   "id": "0762a716",
   "metadata": {},
   "outputs": [],
   "source": []
  },
  {
   "cell_type": "raw",
   "id": "739fc4ba",
   "metadata": {},
   "source": [
    "Question:7"
   ]
  },
  {
   "cell_type": "code",
   "execution_count": 14,
   "id": "a9603a78",
   "metadata": {},
   "outputs": [],
   "source": [
    "driver=webdriver.Chrome(r\"C:\\Users\\pc\\Desktop\\chromedriver-win64\\chromedriver.exe\")"
   ]
  },
  {
   "cell_type": "code",
   "execution_count": 16,
   "id": "fa4b7352",
   "metadata": {},
   "outputs": [],
   "source": [
    "driver.get('https://www.forbes.com./')"
   ]
  },
  {
   "cell_type": "code",
   "execution_count": 17,
   "id": "c959c018",
   "metadata": {},
   "outputs": [],
   "source": [
    "Billionaries=driver.find_element(By.XPATH,'/html/body/div[1]/header/nav/div[1]/div[1]/div/div[2]/ul/li[2]/div[1]')\n",
    "Billionaries.click()"
   ]
  },
  {
   "cell_type": "code",
   "execution_count": 18,
   "id": "6b0de171",
   "metadata": {},
   "outputs": [],
   "source": [
    "World_Billionaries=driver.find_element(By.XPATH,'/html/body/div[1]/header/nav/div[1]/div[1]/div/div[2]/ul/li[2]/div[2]/div[3]/ul/li[1]/a')\n",
    "World_Billionaries.click()"
   ]
  },
  {
   "cell_type": "code",
   "execution_count": 19,
   "id": "13b17c1b",
   "metadata": {},
   "outputs": [],
   "source": [
    "Rank=[]\n",
    "Name=[]\n",
    "Networth=[]\n",
    "Age=[]\n",
    "Citizienship=[]\n"
   ]
  },
  {
   "cell_type": "code",
   "execution_count": 24,
   "id": "1c5b8235",
   "metadata": {},
   "outputs": [],
   "source": [
    "for i in driver.find_elements(By.XPATH,'//div[@class=\"TableRow_cell__db-hv Table_cell__houv9\"]'):\n",
    "    Rank.append(i.text)"
   ]
  },
  {
   "cell_type": "code",
   "execution_count": 66,
   "id": "3da3d8f7",
   "metadata": {},
   "outputs": [],
   "source": [
    "RANKS=Rank[0:100:7]"
   ]
  },
  {
   "cell_type": "code",
   "execution_count": 67,
   "id": "728949b9",
   "metadata": {},
   "outputs": [
    {
     "data": {
      "text/plain": [
       "['1',\n",
       " '2',\n",
       " '3',\n",
       " '4',\n",
       " '5',\n",
       " '6',\n",
       " '7',\n",
       " '8',\n",
       " '9',\n",
       " '10',\n",
       " '11',\n",
       " '12',\n",
       " '13',\n",
       " '14',\n",
       " '15']"
      ]
     },
     "execution_count": 67,
     "metadata": {},
     "output_type": "execute_result"
    }
   ],
   "source": [
    "RANKS"
   ]
  },
  {
   "cell_type": "code",
   "execution_count": 44,
   "id": "30fd08c3",
   "metadata": {},
   "outputs": [],
   "source": [
    "for i in driver.find_elements(By.XPATH,'//div[@class=\"TableRow_cell__db-hv Table_cell__houv9\"]'):\n",
    "    Name.append(i.text)"
   ]
  },
  {
   "cell_type": "code",
   "execution_count": 45,
   "id": "0ccd9046",
   "metadata": {},
   "outputs": [],
   "source": [
    "NAMES=Name[1:100:7]"
   ]
  },
  {
   "cell_type": "code",
   "execution_count": 46,
   "id": "f05d186b",
   "metadata": {},
   "outputs": [
    {
     "data": {
      "text/plain": [
       "['Bernard Arnault & family',\n",
       " 'Elon Musk',\n",
       " 'Jeff Bezos',\n",
       " 'Larry Ellison',\n",
       " 'Warren Buffett',\n",
       " 'Bill Gates',\n",
       " 'Michael Bloomberg',\n",
       " 'Carlos Slim Helu & family',\n",
       " 'Mukesh Ambani',\n",
       " 'Steve Ballmer',\n",
       " 'Francoise Bettencourt Meyers & family',\n",
       " 'Larry Page',\n",
       " 'Amancio Ortega',\n",
       " 'Sergey Brin',\n",
       " 'Zhong Shanshan']"
      ]
     },
     "execution_count": 46,
     "metadata": {},
     "output_type": "execute_result"
    }
   ],
   "source": [
    "NAMES"
   ]
  },
  {
   "cell_type": "code",
   "execution_count": 47,
   "id": "eabec59e",
   "metadata": {},
   "outputs": [],
   "source": [
    "for i in driver.find_elements(By.XPATH,'//div[@class=\"TableRow_cell__db-hv Table_cell__houv9\"]'):\n",
    "    Networth.append(i.text)"
   ]
  },
  {
   "cell_type": "code",
   "execution_count": 60,
   "id": "f74de1e4",
   "metadata": {},
   "outputs": [],
   "source": [
    "NETWORTHS=Networth[2:100:7]"
   ]
  },
  {
   "cell_type": "code",
   "execution_count": 61,
   "id": "91b5fcdf",
   "metadata": {},
   "outputs": [
    {
     "data": {
      "text/plain": [
       "['$211 B',\n",
       " '$180 B',\n",
       " '$114 B',\n",
       " '$107 B',\n",
       " '$106 B',\n",
       " '$104 B',\n",
       " '$94.5 B',\n",
       " '$93 B',\n",
       " '$83.4 B',\n",
       " '$80.7 B',\n",
       " '$80.5 B',\n",
       " '$79.2 B',\n",
       " '$77.3 B',\n",
       " '$76 B']"
      ]
     },
     "execution_count": 61,
     "metadata": {},
     "output_type": "execute_result"
    }
   ],
   "source": [
    "NETWORTHS"
   ]
  },
  {
   "cell_type": "code",
   "execution_count": 50,
   "id": "5bcac2cf",
   "metadata": {},
   "outputs": [],
   "source": [
    "for i in driver.find_elements(By.XPATH,'//div[@class=\"TableRow_cell__db-hv Table_cell__houv9\"]'):\n",
    "    Age.append(i.text)"
   ]
  },
  {
   "cell_type": "code",
   "execution_count": 51,
   "id": "8ca9cd61",
   "metadata": {},
   "outputs": [],
   "source": [
    "AGES=Age[3:100:7]"
   ]
  },
  {
   "cell_type": "code",
   "execution_count": 52,
   "id": "4a1725a6",
   "metadata": {},
   "outputs": [
    {
     "data": {
      "text/plain": [
       "['74',\n",
       " '51',\n",
       " '59',\n",
       " '78',\n",
       " '92',\n",
       " '67',\n",
       " '81',\n",
       " '83',\n",
       " '65',\n",
       " '67',\n",
       " '69',\n",
       " '50',\n",
       " '87',\n",
       " '49']"
      ]
     },
     "execution_count": 52,
     "metadata": {},
     "output_type": "execute_result"
    }
   ],
   "source": [
    "AGES"
   ]
  },
  {
   "cell_type": "code",
   "execution_count": 53,
   "id": "1bb38836",
   "metadata": {},
   "outputs": [],
   "source": [
    "for i in driver.find_elements(By.XPATH,'//div[@class=\"TableRow_cell__db-hv Table_cell__houv9\"]'):\n",
    "    Citizienship.append(i.text)"
   ]
  },
  {
   "cell_type": "code",
   "execution_count": 55,
   "id": "702f692e",
   "metadata": {},
   "outputs": [],
   "source": [
    "CITIZINESHIP=Citizienship[4:100:7]"
   ]
  },
  {
   "cell_type": "code",
   "execution_count": 56,
   "id": "6911a544",
   "metadata": {},
   "outputs": [
    {
     "data": {
      "text/plain": [
       "['France',\n",
       " 'United States',\n",
       " 'United States',\n",
       " 'United States',\n",
       " 'United States',\n",
       " 'United States',\n",
       " 'United States',\n",
       " 'Mexico',\n",
       " 'India',\n",
       " 'United States',\n",
       " 'France',\n",
       " 'United States',\n",
       " 'Spain',\n",
       " 'United States']"
      ]
     },
     "execution_count": 56,
     "metadata": {},
     "output_type": "execute_result"
    }
   ],
   "source": [
    "CITIZINESHIP"
   ]
  },
  {
   "cell_type": "code",
   "execution_count": 69,
   "id": "83538887",
   "metadata": {},
   "outputs": [
    {
     "data": {
      "text/html": [
       "<div>\n",
       "<style scoped>\n",
       "    .dataframe tbody tr th:only-of-type {\n",
       "        vertical-align: middle;\n",
       "    }\n",
       "\n",
       "    .dataframe tbody tr th {\n",
       "        vertical-align: top;\n",
       "    }\n",
       "\n",
       "    .dataframe thead th {\n",
       "        text-align: right;\n",
       "    }\n",
       "</style>\n",
       "<table border=\"1\" class=\"dataframe\">\n",
       "  <thead>\n",
       "    <tr style=\"text-align: right;\">\n",
       "      <th></th>\n",
       "      <th>RANK</th>\n",
       "      <th>NAME</th>\n",
       "    </tr>\n",
       "  </thead>\n",
       "  <tbody>\n",
       "    <tr>\n",
       "      <th>0</th>\n",
       "      <td>1</td>\n",
       "      <td>Bernard Arnault &amp; family</td>\n",
       "    </tr>\n",
       "    <tr>\n",
       "      <th>1</th>\n",
       "      <td>2</td>\n",
       "      <td>Elon Musk</td>\n",
       "    </tr>\n",
       "    <tr>\n",
       "      <th>2</th>\n",
       "      <td>3</td>\n",
       "      <td>Jeff Bezos</td>\n",
       "    </tr>\n",
       "    <tr>\n",
       "      <th>3</th>\n",
       "      <td>4</td>\n",
       "      <td>Larry Ellison</td>\n",
       "    </tr>\n",
       "    <tr>\n",
       "      <th>4</th>\n",
       "      <td>5</td>\n",
       "      <td>Warren Buffett</td>\n",
       "    </tr>\n",
       "    <tr>\n",
       "      <th>5</th>\n",
       "      <td>6</td>\n",
       "      <td>Bill Gates</td>\n",
       "    </tr>\n",
       "    <tr>\n",
       "      <th>6</th>\n",
       "      <td>7</td>\n",
       "      <td>Michael Bloomberg</td>\n",
       "    </tr>\n",
       "    <tr>\n",
       "      <th>7</th>\n",
       "      <td>8</td>\n",
       "      <td>Carlos Slim Helu &amp; family</td>\n",
       "    </tr>\n",
       "    <tr>\n",
       "      <th>8</th>\n",
       "      <td>9</td>\n",
       "      <td>Mukesh Ambani</td>\n",
       "    </tr>\n",
       "    <tr>\n",
       "      <th>9</th>\n",
       "      <td>10</td>\n",
       "      <td>Steve Ballmer</td>\n",
       "    </tr>\n",
       "    <tr>\n",
       "      <th>10</th>\n",
       "      <td>11</td>\n",
       "      <td>Francoise Bettencourt Meyers &amp; family</td>\n",
       "    </tr>\n",
       "    <tr>\n",
       "      <th>11</th>\n",
       "      <td>12</td>\n",
       "      <td>Larry Page</td>\n",
       "    </tr>\n",
       "    <tr>\n",
       "      <th>12</th>\n",
       "      <td>13</td>\n",
       "      <td>Amancio Ortega</td>\n",
       "    </tr>\n",
       "    <tr>\n",
       "      <th>13</th>\n",
       "      <td>14</td>\n",
       "      <td>Sergey Brin</td>\n",
       "    </tr>\n",
       "    <tr>\n",
       "      <th>14</th>\n",
       "      <td>15</td>\n",
       "      <td>Zhong Shanshan</td>\n",
       "    </tr>\n",
       "  </tbody>\n",
       "</table>\n",
       "</div>"
      ],
      "text/plain": [
       "   RANK                                   NAME\n",
       "0     1               Bernard Arnault & family\n",
       "1     2                              Elon Musk\n",
       "2     3                             Jeff Bezos\n",
       "3     4                          Larry Ellison\n",
       "4     5                         Warren Buffett\n",
       "5     6                             Bill Gates\n",
       "6     7                      Michael Bloomberg\n",
       "7     8              Carlos Slim Helu & family\n",
       "8     9                          Mukesh Ambani\n",
       "9    10                          Steve Ballmer\n",
       "10   11  Francoise Bettencourt Meyers & family\n",
       "11   12                             Larry Page\n",
       "12   13                         Amancio Ortega\n",
       "13   14                            Sergey Brin\n",
       "14   15                         Zhong Shanshan"
      ]
     },
     "execution_count": 69,
     "metadata": {},
     "output_type": "execute_result"
    }
   ],
   "source": [
    "import pandas as pd\n",
    "DF=pd.DataFrame({'RANK':RANKS,'NAME':NAMES})\n",
    "DF"
   ]
  },
  {
   "cell_type": "code",
   "execution_count": null,
   "id": "1df4033d",
   "metadata": {},
   "outputs": [],
   "source": []
  },
  {
   "cell_type": "raw",
   "id": "f8cae674",
   "metadata": {},
   "source": [
    "Question:8"
   ]
  },
  {
   "cell_type": "code",
   "execution_count": 70,
   "id": "579eb1d7",
   "metadata": {},
   "outputs": [],
   "source": [
    "import time\n",
    "import pandas as pd\n",
    "from selenium import webdriver\n",
    "from selenium.webdriver.common.by import By\n",
    "from selenium.webdriver.common.keys import Keys\n",
    "from bs4 import BeautifulSoup"
   ]
  },
  {
   "cell_type": "code",
   "execution_count": null,
   "id": "49133476",
   "metadata": {},
   "outputs": [],
   "source": [
    "def extract_comments_from_youtube_video(url, max_comments=500):\n",
    "    # Configure Chrome driver options\n",
    "    driver = webdriver.Chrome()\n",
    "\n",
    "    try:\n",
    "        # Navigate to the YouTube video page\n",
    "        driver.get(url)\n",
    "        time.sleep(5)  # Wait for the page to load\n",
    "\n",
    "        # Scroll the page to load more comments\n",
    "        scroll_pause_time = 2\n",
    "        while True:\n",
    "            last_height = driver.execute_script(\"return document.documentElement.scrollHeight\")\n",
    "            driver.execute_script(\"window.scrollTo(0, document.documentElement.scrollHeight);\")\n",
    "            time.sleep(scroll_pause_time)\n",
    "            new_height = driver.execute_script(\"return document.documentElement.scrollHeight\")\n",
    "            if new_height == last_height:\n",
    "                break\n",
    "\n",
    "        # Extract the page source\n",
    "        page_source = driver.page_source\n",
    "\n",
    "        # Create BeautifulSoup object to parse the page source\n",
    "        soup = BeautifulSoup(page_source, \"html.parser\")\n",
    "\n",
    "        # Find all the comment containers\n",
    "        comment_containers = soup.find_all(\"div\", class_=\"style-scope ytd-comment-renderer\")\n",
    "\n",
    "        # Initialize the data list to store scraped details\n",
    "        data = []\n",
    "\n",
    "        # Extract details for each comment\n",
    "        for container in comment_containers:\n",
    "            comment = container.find(\"yt-formatted-string\", id=\"content-text\").text.strip()\n",
    "            upvotes = container.find(\"span\", id=\"vote-count-middle\").text.strip()\n",
    "            time_posted = container.find(\"yt-formatted-string\", id=\"published-time-text\").text.strip()\n",
    "\n",
    "            # Append the data to the list\n",
    "            data.append({\n",
    "                \"Comment\": comment,\n",
    "                \"Upvotes\": upvotes,\n",
    "                \"Time Posted\": time_posted\n",
    "            })\n",
    "\n",
    "            # Break the loop if we have reached the desired number of comments\n",
    "            if len(data) >= max_comments:\n",
    "                break\n",
    "\n",
    "    finally:\n",
    "        # Close the browser\n",
    "        driver.quit()\n",
    "\n",
    "    # Create a DataFrame from the collected data\n",
    "    df = pd.DataFrame(data)\n",
    "\n",
    "    # Save the DataFrame to a CSV file\n",
    "    df.to_csv(\"youtube_comments.csv\", index=False)\n",
    "    print(\"Scraping and CSV file creation completed successfully!\")\n",
    "\n",
    "if __name__ == \"__main__\":\n",
    "    video_url = input(\"Enter the URL of the YouTube video: \")\n",
    "    extract_comments_from_youtube_video(video_url, max_comments=500)"
   ]
  },
  {
   "cell_type": "code",
   "execution_count": null,
   "id": "9589a84c",
   "metadata": {},
   "outputs": [],
   "source": []
  },
  {
   "cell_type": "code",
   "execution_count": null,
   "id": "14cea31a",
   "metadata": {},
   "outputs": [],
   "source": [
    "Question:9"
   ]
  },
  {
   "cell_type": "code",
   "execution_count": 77,
   "id": "7cac1bd7",
   "metadata": {},
   "outputs": [],
   "source": [
    "driver=webdriver.Chrome(r\"C:\\Users\\pc\\Desktop\\chromedriver-win64\\chromedriver.exe\")"
   ]
  },
  {
   "cell_type": "code",
   "execution_count": 82,
   "id": "ec334a56",
   "metadata": {},
   "outputs": [],
   "source": [
    "def scrape_hostels_in_london():\n",
    "    # Configure Chrome driver options\n",
    "    chrome_options = Options()\n",
    "    chrome_options.add_argument(\"--headless\")  # Run the browser in headless mode to speed up the process\n",
    "    driver = webdriver.Chrome(options=chrome_options)\n",
    "\n",
    "    try:\n",
    "        # Navigate to the Hostelworld London page\n",
    "        driver.get(\"https://www.hostelworld.com/search?search_keywords=London,%20England&country=England&city=London&date_from=2023-08-01&date_to=2023-08-03&number_of_guests=1\")\n",
    "        \n",
    "        # Wait for the page to load\n",
    "        time.sleep(5)\n",
    "\n",
    "        # Scroll the page to load all hostels\n",
    "        scroll_pause_time = 2\n",
    "        last_height = driver.execute_script(\"return document.body.scrollHeight\")\n",
    "        while True:\n",
    "            driver.execute_script(\"window.scrollTo(0, document.body.scrollHeight);\")\n",
    "            time.sleep(scroll_pause_time)\n",
    "            new_height = driver.execute_script(\"return document.body.scrollHeight\")\n",
    "            if new_height == last_height:\n",
    "                break\n",
    "            last_height = new_height\n",
    "\n",
    "        # Extract the page source\n",
    "        page_source = driver.page_source\n",
    "\n",
    "        # Create BeautifulSoup object to parse the page source\n",
    "        soup = BeautifulSoup(page_source, \"html.parser\")\n",
    "\n",
    "        # Find all the hostel containers\n",
    "        hostel_containers = soup.find_all(\"div\", class_=\"hwta-property-list\")\n",
    "\n",
    "        # Initialize the data list to store scraped details\n",
    "        data = []\n",
    "\n",
    "        # Extract details for each hostel\n",
    "        for container in hostel_containers:\n",
    "            name = container.find(\"h2\", class_=\"title\").text.strip()\n",
    "            distance_from_city_center = container.find(\"span\", class_=\"description\").text.strip()\n",
    "            ratings = container.find(\"div\", class_=\"score orange big\").text.strip()\n",
    "            total_reviews = container.find(\"div\", class_=\"reviews\").text.strip()\n",
    "            overall_reviews = container.find(\"div\", class_=\"reviews\").find(\"span\", class_=\"text\").text.strip()\n",
    "            privates_from_price = container.find(\"div\", class_=\"price-col privates-from\").text.strip()\n",
    "            dorms_from_price = container.find(\"div\", class_=\"price-col dorms-from\").text.strip()\n",
    "            facilities = container.find(\"ul\", class_=\"facilities\").text.strip()\n",
    "            description = container.find(\"div\", class_=\"description\").text.strip()\n",
    "\n",
    "            # Append the data to the list\n",
    "            data.append({\n",
    "                \"Hostel Name\": name,\n",
    "                \"Distance from City Centre\": distance_from_city_center,\n",
    "                \"Ratings\": ratings,\n",
    "                \"Total Reviews\": total_reviews,\n",
    "                \"Overall Reviews\": overall_reviews,\n",
    "                \"Privates from Price\": privates_from_price,\n",
    "                \"Dorms from Price\": dorms_from_price,\n",
    "                \"Facilities\": facilities,\n",
    "                \"Property Description\": description\n",
    "            })\n",
    "\n",
    "    finally:\n",
    "        # Close the browser\n",
    "        driver.quit()\n",
    "\n",
    "    # Create a DataFrame from the collected data\n",
    "    df = pd.DataFrame(data)\n",
    "\n",
    "    # Save the DataFrame to a CSV file\n",
    "    df.to_csv(\"hostels_in_london.csv\", index=False)\n",
    "    print(\"Scraping and CSV file creation completed successfully!\")\n",
    "\n",
    "if __name__ == \"__main__\":\n",
    "    scrape_hostels_in_london()"
   ]
  },
  {
   "cell_type": "code",
   "execution_count": null,
   "id": "ee9cb733",
   "metadata": {},
   "outputs": [],
   "source": []
  }
 ],
 "metadata": {
  "kernelspec": {
   "display_name": "Python 3 (ipykernel)",
   "language": "python",
   "name": "python3"
  },
  "language_info": {
   "codemirror_mode": {
    "name": "ipython",
    "version": 3
   },
   "file_extension": ".py",
   "mimetype": "text/x-python",
   "name": "python",
   "nbconvert_exporter": "python",
   "pygments_lexer": "ipython3",
   "version": "3.9.13"
  }
 },
 "nbformat": 4,
 "nbformat_minor": 5
}
