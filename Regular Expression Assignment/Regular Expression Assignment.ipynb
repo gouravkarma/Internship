{
 "cells": [
  {
   "cell_type": "code",
   "execution_count": 30,
   "id": "9d955fba",
   "metadata": {},
   "outputs": [
    {
     "name": "stdout",
     "output_type": "stream",
     "text": [
      "AbC123 contains only allowed characters.\n",
      "AbC@123 contains characters outside the allowed set.\n"
     ]
    }
   ],
   "source": [
    "# Question:1\n",
    "import regex as re\n",
    "\n",
    "def contains_only_allowed_characters(string):\n",
    "    pattern = r'^[a-zA-Z0-9]+$'\n",
    "    if re.match(pattern, string):\n",
    "        return True\n",
    "    else:\n",
    "        return False\n",
    "\n",
    "\n",
    "test_string1 = \"AbC123\"  # Contains only allowed characters\n",
    "test_string2 = \"AbC@123\"  # Contains special characters\n",
    "\n",
    "if contains_only_allowed_characters(test_string1):\n",
    "    print(f\"{test_string1} contains only allowed characters.\")\n",
    "else:\n",
    "    print(f\"{test_string1} contains characters outside the allowed set.\")\n",
    "\n",
    "if contains_only_allowed_characters(test_string2):\n",
    "    print(f\"{test_string2} contains only allowed characters.\")\n",
    "else:\n",
    "    print(f\"{test_string2} contains characters outside the allowed set.\")"
   ]
  },
  {
   "cell_type": "code",
   "execution_count": 31,
   "id": "55894004",
   "metadata": {},
   "outputs": [
    {
     "name": "stdout",
     "output_type": "stream",
     "text": [
      "ab matches the pattern.\n",
      "abb matches the pattern.\n",
      "ac matches the pattern.\n"
     ]
    }
   ],
   "source": [
    "# Question:2\n",
    "\n",
    "def match_pattern(string):\n",
    "    pattern = r'ab*'\n",
    "    if re.match(pattern, string):\n",
    "        return True\n",
    "    else:\n",
    "        return False\n",
    "\n",
    "# Example usage\n",
    "test_string1 = \"ab\"  # Matches the pattern\n",
    "test_string2 = \"abb\"  # Matches the pattern\n",
    "test_string3 = \"ac\"  # Does not match the pattern\n",
    "\n",
    "if match_pattern(test_string1):\n",
    "    print(f\"{test_string1} matches the pattern.\")\n",
    "else:\n",
    "    print(f\"{test_string1} does not match the pattern.\")\n",
    "\n",
    "if match_pattern(test_string2):\n",
    "    print(f\"{test_string2} matches the pattern.\")\n",
    "else:\n",
    "    print(f\"{test_string2} does not match the pattern.\")\n",
    "\n",
    "if match_pattern(test_string3):\n",
    "    print(f\"{test_string3} matches the pattern.\")\n",
    "else:\n",
    "    print(f\"{test_string3} does not match the pattern.\")"
   ]
  },
  {
   "cell_type": "code",
   "execution_count": 32,
   "id": "87a6516a",
   "metadata": {},
   "outputs": [
    {
     "name": "stdout",
     "output_type": "stream",
     "text": [
      "ab matches the pattern.\n",
      "abb matches the pattern.\n",
      "ac does not match the pattern.\n"
     ]
    }
   ],
   "source": [
    "#Question:3\n",
    "\n",
    "def match_pattern(string):\n",
    "    pattern = r'ab+'\n",
    "    if re.match(pattern, string):\n",
    "        return True\n",
    "    else:\n",
    "        return False\n",
    "\n",
    "# Example usage\n",
    "test_string1 = \"ab\"  # Matches the pattern\n",
    "test_string2 = \"abb\"  # Matches the pattern\n",
    "test_string3 = \"ac\"  # Does not match the pattern\n",
    "\n",
    "if match_pattern(test_string1):\n",
    "    print(f\"{test_string1} matches the pattern.\")\n",
    "else:\n",
    "    print(f\"{test_string1} does not match the pattern.\")\n",
    "\n",
    "if match_pattern(test_string2):\n",
    "    print(f\"{test_string2} matches the pattern.\")\n",
    "else:\n",
    "    print(f\"{test_string2} does not match the pattern.\")\n",
    "\n",
    "if match_pattern(test_string3):\n",
    "    print(f\"{test_string3} matches the pattern.\")\n",
    "else:\n",
    "    print(f\"{test_string3} does not match the pattern.\")\n"
   ]
  },
  {
   "cell_type": "code",
   "execution_count": 33,
   "id": "08d2392c",
   "metadata": {},
   "outputs": [
    {
     "name": "stdout",
     "output_type": "stream",
     "text": [
      "ab matches the pattern.\n",
      "a matches the pattern.\n",
      "abb does not match the pattern.\n"
     ]
    }
   ],
   "source": [
    "#Question: 4\n",
    "\n",
    "def match_pattern(string):\n",
    "    pattern = r'ab?'\n",
    "    if re.fullmatch(pattern, string):\n",
    "        return True\n",
    "    else:\n",
    "        return False\n",
    "\n",
    "# Example usage\n",
    "test_string1 = \"ab\"  # Matches the pattern\n",
    "test_string2 = \"a\"  # Matches the pattern\n",
    "test_string3 = \"abb\"  # Does not match the pattern\n",
    "\n",
    "if match_pattern(test_string1):\n",
    "    print(f\"{test_string1} matches the pattern.\")\n",
    "else:\n",
    "    print(f\"{test_string1} does not match the pattern.\")\n",
    "\n",
    "if match_pattern(test_string2):\n",
    "    print(f\"{test_string2} matches the pattern.\")\n",
    "else:\n",
    "    print(f\"{test_string2} does not match the pattern.\")\n",
    "\n",
    "if match_pattern(test_string3):\n",
    "    print(f\"{test_string3} matches the pattern.\")\n",
    "else:\n",
    "    print(f\"{test_string3} does not match the pattern.\")\n"
   ]
  },
  {
   "cell_type": "code",
   "execution_count": 34,
   "id": "2c52a5dc",
   "metadata": {},
   "outputs": [
    {
     "name": "stdout",
     "output_type": "stream",
     "text": [
      "abbb matches the pattern.\n",
      "abbbb matches the pattern.\n",
      "abb does not match the pattern.\n"
     ]
    }
   ],
   "source": [
    "#Question:5\n",
    "\n",
    "def match_pattern(string):\n",
    "    pattern = r'abbb'\n",
    "    if re.match(pattern, string):\n",
    "        return True\n",
    "    else:\n",
    "        return False\n",
    "\n",
    "# Example usage\n",
    "test_string1 = \"abbb\"  # Matches the pattern\n",
    "test_string2 = \"abbbb\"  # Does not match the pattern\n",
    "test_string3 = \"abb\"  # Does not match the pattern\n",
    "\n",
    "if match_pattern(test_string1):\n",
    "    print(f\"{test_string1} matches the pattern.\")\n",
    "else:\n",
    "    print(f\"{test_string1} does not match the pattern.\")\n",
    "\n",
    "if match_pattern(test_string2):\n",
    "    print(f\"{test_string2} matches the pattern.\")\n",
    "else:\n",
    "    print(f\"{test_string2} does not match the pattern.\")\n",
    "\n",
    "if match_pattern(test_string3):\n",
    "    print(f\"{test_string3} matches the pattern.\")\n",
    "else:\n",
    "    print(f\"{test_string3} does not match the pattern.\")\n"
   ]
  },
  {
   "cell_type": "code",
   "execution_count": 35,
   "id": "ee3a86b7",
   "metadata": {},
   "outputs": [
    {
     "name": "stdout",
     "output_type": "stream",
     "text": [
      "['Importance', 'Of', 'Regular', 'Expressions', 'In', 'Python']\n"
     ]
    }
   ],
   "source": [
    "#Question:6\n",
    "\n",
    "string = \"Importance Of Regular Expressions In Python\"\n",
    "\n",
    "uppercase_letters = re.split(r'\\s', string)\n",
    "print(uppercase_letters)\n"
   ]
  },
  {
   "cell_type": "code",
   "execution_count": 36,
   "id": "cd5dda34",
   "metadata": {},
   "outputs": [
    {
     "name": "stdout",
     "output_type": "stream",
     "text": [
      "abb matches the pattern.\n",
      "abbb matches the pattern.\n",
      "abbbb matches the pattern.\n",
      "ab does not match the pattern.\n"
     ]
    }
   ],
   "source": [
    "#Question:7\n",
    "\n",
    "def match_pattern(string):\n",
    "    pattern = r'ab{2,3}'\n",
    "    if re.match(pattern, string):\n",
    "        return True\n",
    "    else:\n",
    "        return False\n",
    "\n",
    "# Example usage\n",
    "test_string1 = \"abb\"  # Matches the pattern\n",
    "test_string2 = \"abbb\"  # Matches the pattern\n",
    "test_string3 = \"abbbb\"  # Does not match the pattern\n",
    "test_string4 = \"ab\"  # Does not match the pattern\n",
    "\n",
    "if match_pattern(test_string1):\n",
    "    print(f\"{test_string1} matches the pattern.\")\n",
    "else:\n",
    "    print(f\"{test_string1} does not match the pattern.\")\n",
    "\n",
    "if match_pattern(test_string2):\n",
    "    print(f\"{test_string2} matches the pattern.\")\n",
    "else:\n",
    "    print(f\"{test_string2} does not match the pattern.\")\n",
    "\n",
    "if match_pattern(test_string3):\n",
    "    print(f\"{test_string3} matches the pattern.\")\n",
    "else:\n",
    "    print(f\"{test_string3} does not match the pattern.\")\n",
    "\n",
    "if match_pattern(test_string4):\n",
    "    print(f\"{test_string4} matches the pattern.\")\n",
    "else:\n",
    "    print(f\"{test_string4} does not match the pattern.\")\n"
   ]
  },
  {
   "cell_type": "code",
   "execution_count": 37,
   "id": "bad9e77b",
   "metadata": {},
   "outputs": [
    {
     "name": "stdout",
     "output_type": "stream",
     "text": [
      "['hello_world', 'is_the']\n"
     ]
    }
   ],
   "source": [
    "#Question:8\n",
    "\n",
    "def find_sequences(string):\n",
    "    pattern = r'[a-z]+_[a-z]+'\n",
    "    sequences = re.findall(pattern, string)\n",
    "    return sequences\n",
    "\n",
    "# Example usage\n",
    "test_string = \"hello_world is_the_best\"\n",
    "\n",
    "found_sequences = find_sequences(test_string)\n",
    "print(found_sequences)\n"
   ]
  },
  {
   "cell_type": "code",
   "execution_count": 38,
   "id": "bda99e84",
   "metadata": {},
   "outputs": [
    {
     "name": "stdout",
     "output_type": "stream",
     "text": [
      "acdb matches the pattern.\n",
      "a123b matches the pattern.\n",
      "abc does not match the pattern.\n",
      "ab matches the pattern.\n"
     ]
    }
   ],
   "source": [
    "#Question:9\n",
    "\n",
    "def match_pattern(string):\n",
    "    pattern = r'a.*b$'\n",
    "    if re.match(pattern, string):\n",
    "        return True\n",
    "    else:\n",
    "        return False\n",
    "\n",
    "# Example usage\n",
    "test_string1 = \"acdb\"  # Matches the pattern\n",
    "test_string2 = \"a123b\"  # Matches the pattern\n",
    "test_string3 = \"abc\"  # Does not match the pattern\n",
    "test_string4 = \"ab\"  # Does not match the pattern\n",
    "\n",
    "if match_pattern(test_string1):\n",
    "    print(f\"{test_string1} matches the pattern.\")\n",
    "else:\n",
    "    print(f\"{test_string1} does not match the pattern.\")\n",
    "\n",
    "if match_pattern(test_string2):\n",
    "    print(f\"{test_string2} matches the pattern.\")\n",
    "else:\n",
    "    print(f\"{test_string2} does not match the pattern.\")\n",
    "\n",
    "if match_pattern(test_string3):\n",
    "    print(f\"{test_string3} matches the pattern.\")\n",
    "else:\n",
    "    print(f\"{test_string3} does not match the pattern.\")\n",
    "\n",
    "if match_pattern(test_string4):\n",
    "    print(f\"{test_string4} matches the pattern.\")\n",
    "else:\n",
    "    print(f\"{test_string4} does not match the pattern.\")\n"
   ]
  },
  {
   "cell_type": "code",
   "execution_count": 39,
   "id": "3e935010",
   "metadata": {},
   "outputs": [
    {
     "name": "stdout",
     "output_type": "stream",
     "text": [
      "Hello, world! matches the pattern.\n",
      "42 is the answer matches the pattern.\n",
      "The quick brown fox matches the pattern.\n",
      "End of the line matches the pattern.\n"
     ]
    }
   ],
   "source": [
    "#Question:10\n",
    "\n",
    "def match_pattern(string):\n",
    "    pattern = r'^\\w+'\n",
    "    if re.match(pattern, string):\n",
    "        return True\n",
    "    else:\n",
    "        return False\n",
    "\n",
    "# Example usage\n",
    "test_string1 = \"Hello, world!\"  # Matches the pattern\n",
    "test_string2 = \"42 is the answer\"  # Matches the pattern\n",
    "test_string3 = \"The quick brown fox\"  # Matches the pattern\n",
    "test_string4 = \"End of the line\"  # Does not match the pattern\n",
    "\n",
    "if match_pattern(test_string1):\n",
    "    print(f\"{test_string1} matches the pattern.\")\n",
    "else:\n",
    "    print(f\"{test_string1} does not match the pattern.\")\n",
    "\n",
    "if match_pattern(test_string2):\n",
    "    print(f\"{test_string2} matches the pattern.\")\n",
    "else:\n",
    "    print(f\"{test_string2} does not match the pattern.\")\n",
    "\n",
    "if match_pattern(test_string3):\n",
    "    print(f\"{test_string3} matches the pattern.\")\n",
    "else:\n",
    "    print(f\"{test_string3} does not match the pattern.\")\n",
    "\n",
    "if match_pattern(test_string4):\n",
    "    print(f\"{test_string4} matches the pattern.\")\n",
    "else:\n",
    "    print(f\"{test_string4} does not match the pattern.\")\n"
   ]
  },
  {
   "cell_type": "code",
   "execution_count": 40,
   "id": "9636c66f",
   "metadata": {},
   "outputs": [
    {
     "name": "stdout",
     "output_type": "stream",
     "text": [
      "Hello_World123 matches the pattern.\n",
      "Hello World does not match the pattern.\n",
      "hello_world! does not match the pattern.\n",
      "12345 matches the pattern.\n",
      "Ab_12_3 matches the pattern.\n"
     ]
    }
   ],
   "source": [
    "#que 11\n",
    "import re\n",
    "\n",
    "def match_pattern(string):\n",
    "    pattern = r'^[a-zA-Z0-9_]+$'\n",
    "    if re.match(pattern, string):\n",
    "        return True\n",
    "    else:\n",
    "        return False\n",
    "\n",
    "# Example usage\n",
    "test_string1 = \"Hello_World123\"  # Matches the pattern\n",
    "test_string2 = \"Hello World\"  # Does not match the pattern\n",
    "test_string3 = \"hello_world!\"  # Does not match the pattern\n",
    "test_string4 = \"12345\"  # Matches the pattern\n",
    "test_string5 = \"Ab_12_3\"  # Matches the pattern\n",
    "\n",
    "if match_pattern(test_string1):\n",
    "    print(f\"{test_string1} matches the pattern.\")\n",
    "else:\n",
    "    print(f\"{test_string1} does not match the pattern.\")\n",
    "\n",
    "if match_pattern(test_string2):\n",
    "    print(f\"{test_string2} matches the pattern.\")\n",
    "else:\n",
    "    print(f\"{test_string2} does not match the pattern.\")\n",
    "\n",
    "if match_pattern(test_string3):\n",
    "    print(f\"{test_string3} matches the pattern.\")\n",
    "else:\n",
    "    print(f\"{test_string3} does not match the pattern.\")\n",
    "\n",
    "if match_pattern(test_string4):\n",
    "    print(f\"{test_string4} matches the pattern.\")\n",
    "else:\n",
    "    print(f\"{test_string4} does not match the pattern.\")\n",
    "\n",
    "if match_pattern(test_string5):\n",
    "    print(f\"{test_string5} matches the pattern.\")\n",
    "else:\n",
    "    print(f\"{test_string5} does not match the pattern.\")\n"
   ]
  },
  {
   "cell_type": "code",
   "execution_count": 41,
   "id": "8857b7f2",
   "metadata": {},
   "outputs": [
    {
     "name": "stdout",
     "output_type": "stream",
     "text": [
      "42 is the answer starts with 42.\n",
      "Hello, world! does not start with 42.\n",
      "42nd Street starts with 42.\n"
     ]
    }
   ],
   "source": [
    "#Question:12\n",
    "\n",
    "def starts_with_number(string, number):\n",
    "    return string.startswith(str(number))\n",
    "\n",
    "# Example usage\n",
    "test_string1 = \"42 is the answer\"  # Starts with 42\n",
    "test_string2 = \"Hello, world!\"  # Does not start with 42\n",
    "test_string3 = \"42nd Street\"  # Starts with 42\n",
    "test_number = 42\n",
    "\n",
    "if starts_with_number(test_string1, test_number):\n",
    "    print(f\"{test_string1} starts with {test_number}.\")\n",
    "else:\n",
    "    print(f\"{test_string1} does not start with {test_number}.\")\n",
    "\n",
    "if starts_with_number(test_string2, test_number):\n",
    "    print(f\"{test_string2} starts with {test_number}.\")\n",
    "else:\n",
    "    print(f\"{test_string2} does not start with {test_number}.\")\n",
    "\n",
    "if starts_with_number(test_string3, test_number):\n",
    "    print(f\"{test_string3} starts with {test_number}.\")\n",
    "else:\n",
    "    print(f\"{test_string3} does not start with {test_number}.\")\n",
    "\n"
   ]
  },
  {
   "cell_type": "code",
   "execution_count": 42,
   "id": "9abac329",
   "metadata": {},
   "outputs": [
    {
     "name": "stdout",
     "output_type": "stream",
     "text": [
      "192.168.1.1\n",
      "10.20.3.4\n",
      "0.0.0.0\n"
     ]
    }
   ],
   "source": [
    "#Question:13\n",
    "\n",
    "def remove_leading_zeros(ip_address):\n",
    "    pattern = r'\\b0+(\\d+)\\b'\n",
    "    ip_address_without_zeros = re.sub(pattern, r'\\1', ip_address)\n",
    "    return ip_address_without_zeros\n",
    "\n",
    "# Test the function\n",
    "ip_address1 = '192.168.001.001'\n",
    "ip_address2 = '010.020.003.004'\n",
    "ip_address3 = '000.000.000.000'\n",
    "\n",
    "print(remove_leading_zeros(ip_address1))  # Output: 192.168.1.1\n",
    "print(remove_leading_zeros(ip_address2))  # Output: 10.20.3.4\n",
    "print(remove_leading_zeros(ip_address3))  # Output: 0.0.0.0\n"
   ]
  },
  {
   "cell_type": "code",
   "execution_count": 43,
   "id": "34045895",
   "metadata": {},
   "outputs": [],
   "source": [
    "#Question:14\n",
    "\n",
    "text = \"On August 15th 1947 that India was declared independent from British colonialism, and the reins of control were handed over to the leaders of the Country.\"\n",
    "\n",
    "# Define the regular expression pattern\n",
    "pattern = r'(\\b(?:January|February|March|April|May|June|July|August|September|October|November|December)\\s+\\d{1,2}(?:st|nd|rd|th)?\\s+\\d{4}\\b)'\n",
    "\n",
    "# Find the first match in the text\n",
    "match = re.match(pattern, text)\n",
    "\n",
    "# Print the matched date string\n",
    "if match:\n",
    "    print(match.group())"
   ]
  },
  {
   "cell_type": "code",
   "execution_count": 44,
   "id": "3013f554",
   "metadata": {},
   "outputs": [
    {
     "name": "stdout",
     "output_type": "stream",
     "text": [
      "['fox', 'dog']\n"
     ]
    }
   ],
   "source": [
    "#Question:15\n",
    "\n",
    "def search_literals(text, searched_words):\n",
    "    found_words = []\n",
    "    for word in searched_words:\n",
    "        pattern = r'\\b' + re.escape(word) + r'\\b'\n",
    "        if re.search(pattern, text):\n",
    "            found_words.append(word)\n",
    "    return found_words\n",
    "\n",
    "# Test the function\n",
    "sample_text = 'The quick brown fox jumps over the lazy dog.'\n",
    "searched_words = ['fox', 'dog', 'horse']\n",
    "found_words = search_literals(sample_text, searched_words)\n",
    "print(found_words)"
   ]
  },
  {
   "cell_type": "code",
   "execution_count": 45,
   "id": "7df5c2e0",
   "metadata": {},
   "outputs": [
    {
     "name": "stdout",
     "output_type": "stream",
     "text": [
      "[16]\n"
     ]
    }
   ],
   "source": [
    "#Question:16\n",
    "\n",
    "def search_string(text, pattern):\n",
    "    found_locations = []\n",
    "    for match in re.finditer(pattern, text):\n",
    "        found_locations.append(match.start())\n",
    "    return found_locations\n",
    "\n",
    "# Test the function\n",
    "sample_text = 'The quick brown fox jumps over the lazy dog.'\n",
    "pattern = r'fox'\n",
    "found_locations = search_string(sample_text, pattern)\n",
    "print(found_locations)"
   ]
  },
  {
   "cell_type": "code",
   "execution_count": 46,
   "id": "9b413b64",
   "metadata": {},
   "outputs": [
    {
     "name": "stdout",
     "output_type": "stream",
     "text": [
      "['exercises', 'exercises', 'exercises']\n"
     ]
    }
   ],
   "source": [
    "#Question:17\n",
    "\n",
    "def find_substrings(text, pattern):\n",
    "    found_substrings = re.findall(pattern, text)\n",
    "    return found_substrings\n",
    "\n",
    "# Test the function\n",
    "sample_text = 'Python exercises, PHP exercises, C# exercises'\n",
    "pattern = 'exercises'\n",
    "found_substrings = find_substrings(sample_text, pattern)\n",
    "print(found_substrings)"
   ]
  },
  {
   "cell_type": "code",
   "execution_count": 47,
   "id": "eb5a15d6",
   "metadata": {},
   "outputs": [
    {
     "name": "stdout",
     "output_type": "stream",
     "text": [
      "Substring: exercises \t Start Position: 7 \t End Position: 15\n",
      "Substring: exercises \t Start Position: 22 \t End Position: 30\n",
      "Substring: exercises \t Start Position: 36 \t End Position: 44\n"
     ]
    }
   ],
   "source": [
    "#Question:18\n",
    "\n",
    "def find_occurrences_positions(text, pattern):\n",
    "    occurrences_positions = []\n",
    "    for match in re.finditer(pattern, text):\n",
    "        start_pos = match.start()\n",
    "        end_pos = match.end() - 1\n",
    "        occurrences_positions.append((match.group(), start_pos, end_pos))\n",
    "    return occurrences_positions\n",
    "\n",
    "# Test the function\n",
    "sample_text = 'Python exercises, PHP exercises, C# exercises'\n",
    "pattern = r'exercises'\n",
    "occurrences_positions = find_occurrences_positions(sample_text, pattern)\n",
    "for occurrence in occurrences_positions:\n",
    "    substring, start_pos, end_pos = occurrence\n",
    "    print(f\"Substring: {substring} \\t Start Position: {start_pos} \\t End Position: {end_pos}\")"
   ]
  },
  {
   "cell_type": "code",
   "execution_count": 48,
   "id": "46999e5e",
   "metadata": {},
   "outputs": [
    {
     "name": "stdout",
     "output_type": "stream",
     "text": [
      "14-07-2023\n",
      "25-12-2022\n"
     ]
    }
   ],
   "source": [
    "#Question:19\n",
    "\n",
    "def convert_date(date):\n",
    "    pattern = r'(\\d{4})-(\\d{2})-(\\d{2})'\n",
    "    match = re.match(pattern, date)\n",
    "    if match:\n",
    "        year = match.group(1)\n",
    "        month = match.group(2)\n",
    "        day = match.group(3)\n",
    "        converted_date = f\"{day}-{month}-{year}\"\n",
    "        return converted_date\n",
    "    else:\n",
    "        return \"Invalid date format\"\n",
    "\n",
    "# Test the function\n",
    "date1 = '2023-07-14'\n",
    "converted_date1 = convert_date(date1)\n",
    "print(converted_date1) \n",
    "\n",
    "date2 = '2022-12-25'\n",
    "converted_date2 = convert_date(date2)\n",
    "print(converted_date2)  "
   ]
  },
  {
   "cell_type": "code",
   "execution_count": 49,
   "id": "2f725de5",
   "metadata": {},
   "outputs": [
    {
     "name": "stdout",
     "output_type": "stream",
     "text": [
      "['An', 'apple', 'away', 'Eating', 'eggs']\n"
     ]
    }
   ],
   "source": [
    "#Question:20\n",
    "\n",
    "def find_words_starting_with_a_or_e(text):\n",
    "    pattern = r'\\b[ae]\\w+\\b'\n",
    "    words = re.findall(pattern, text, re.IGNORECASE)\n",
    "    return words\n",
    "\n",
    "# Test the function\n",
    "sample_text = 'An apple a day keeps the doctor away. Eating eggs in the morning is healthy.'\n",
    "words_starting_with_a_or_e = find_words_starting_with_a_or_e(sample_text)\n",
    "print(words_starting_with_a_or_e)"
   ]
  },
  {
   "cell_type": "code",
   "execution_count": 50,
   "id": "e2eb25d0",
   "metadata": {},
   "outputs": [
    {
     "name": "stdout",
     "output_type": "stream",
     "text": [
      "Number: 10, Position: 7\n",
      "Number: 5, Position: 21\n",
      "Number: 2, Position: 41\n"
     ]
    }
   ],
   "source": [
    "#Question:21\n",
    "\n",
    "def separate_numbers(text):\n",
    "    pattern = r'\\d+'\n",
    "    numbers = re.findall(pattern, text)\n",
    "    positions = [match.start() for match in re.finditer(pattern, text)]\n",
    "    for i in range(len(numbers)):\n",
    "        print(f\"Number: {numbers[i]}, Position: {positions[i]}\")\n",
    "\n",
    "# Test the function\n",
    "sample_text = 'I have 10 apples and 5 oranges, but only 2 bananas.'\n",
    "separate_numbers(sample_text)"
   ]
  },
  {
   "cell_type": "code",
   "execution_count": 51,
   "id": "1f51f082",
   "metadata": {},
   "outputs": [
    {
     "name": "stdout",
     "output_type": "stream",
     "text": [
      "100\n"
     ]
    }
   ],
   "source": [
    "#Question:22\n",
    "\n",
    "def extract_maximum_numeric_value(text):\n",
    "    pattern = r'\\d+'\n",
    "    numbers = re.findall(pattern, text)\n",
    "    if numbers:\n",
    "        max_number = max(numbers, key=int)\n",
    "        return int(max_number)\n",
    "    else:\n",
    "        return None\n",
    "\n",
    "# Test the function\n",
    "sample_text = 'The maximum value is 100, but there are also 50 and 75.'\n",
    "max_numeric_value = extract_maximum_numeric_value(sample_text)\n",
    "print(max_numeric_value)"
   ]
  },
  {
   "cell_type": "code",
   "execution_count": 52,
   "id": "175e085e",
   "metadata": {},
   "outputs": [
    {
     "name": "stdout",
     "output_type": "stream",
     "text": [
      "This Is An Example String With Some Words\n"
     ]
    }
   ],
   "source": [
    "#Question:23\n",
    "\n",
    "def put_spaces_between_capital_words(text):\n",
    "    pattern = r'(?<!^)(?=[A-Z])'\n",
    "    modified_text = re.sub(pattern, ' ', text)\n",
    "    return modified_text\n",
    "\n",
    "# Test the function\n",
    "sample_text = 'ThisIsAnExampleStringWithSomeWords'\n",
    "modified_text = put_spaces_between_capital_words(sample_text)\n",
    "print(modified_text)"
   ]
  },
  {
   "cell_type": "code",
   "execution_count": 53,
   "id": "769f856a",
   "metadata": {},
   "outputs": [
    {
     "name": "stdout",
     "output_type": "stream",
     "text": [
      "['The', 'Quick', 'Brown', 'Fox', 'Jumps', 'Over', 'The', 'Lazy', 'Dog']\n"
     ]
    }
   ],
   "source": [
    "#Question:24\n",
    "\n",
    "def find_sequences_of_uppercase(text):\n",
    "    pattern = r'[A-Z][a-z]+'\n",
    "    sequences = re.findall(pattern, text)\n",
    "    return sequences\n",
    "\n",
    "# Test the function\n",
    "sample_text = 'The Quick Brown Fox Jumps Over The Lazy Dog.'\n",
    "sequences = find_sequences_of_uppercase(sample_text)\n",
    "print(sequences)"
   ]
  },
  {
   "cell_type": "code",
   "execution_count": 54,
   "id": "47b2657b",
   "metadata": {},
   "outputs": [
    {
     "name": "stdout",
     "output_type": "stream",
     "text": [
      "The brown lazy and quick fox jumps over the dog.\n"
     ]
    }
   ],
   "source": [
    "#Question:25\n",
    "\n",
    "def remove_duplicate_words(sentence):\n",
    "    pattern = r'\\b(\\w+)\\b\\s+(?=.*\\b\\1\\b)'\n",
    "    modified_sentence = re.sub(pattern, '', sentence)\n",
    "    return modified_sentence\n",
    "\n",
    "# Test the function\n",
    "sample_sentence = 'The quick brown fox jumps over the lazy dog and the quick fox jumps over the dog.'\n",
    "modified_sentence = remove_duplicate_words(sample_sentence)\n",
    "print(modified_sentence)"
   ]
  },
  {
   "cell_type": "code",
   "execution_count": 55,
   "id": "f9933347",
   "metadata": {},
   "outputs": [
    {
     "name": "stdout",
     "output_type": "stream",
     "text": [
      "True\n",
      "False\n"
     ]
    }
   ],
   "source": [
    "#Question:26\n",
    "\n",
    "def is_string_ending_with_alphanumeric(string):\n",
    "    pattern = r'^.*[a-zA-Z0-9]$'\n",
    "    match = re.match(pattern, string)\n",
    "    if match:\n",
    "        return True\n",
    "    else:\n",
    "        return False\n",
    "\n",
    "# Test the function\n",
    "sample_string1 = 'Hello123'\n",
    "print(is_string_ending_with_alphanumeric(sample_string1))  # Output: True\n",
    "\n",
    "sample_string2 = 'abc@'\n",
    "print(is_string_ending_with_alphanumeric(sample_string2))  # Output: False"
   ]
  },
  {
   "cell_type": "code",
   "execution_count": 56,
   "id": "2351933a",
   "metadata": {},
   "outputs": [
    {
     "name": "stdout",
     "output_type": "stream",
     "text": [
      "['#Doltiwal', '#xyzabc', '#Demonetization']\n"
     ]
    }
   ],
   "source": [
    "#Question:27\n",
    "\n",
    "def extract_hashtags(text):\n",
    "    pattern = r'\\#\\w+'\n",
    "    hashtags = re.findall(pattern, text)\n",
    "    return hashtags\n",
    "\n",
    "# Test the function\n",
    "sample_text = \"\"\"RT @kapil_kausik: #Doltiwal I mean #xyzabc is \"hurt\" by #Demonetization as the same has rendered USELESS <ed><U+00A0><U+00BD><ed><U+00B1><U+0089> \"acquired funds\" No wo\"\"\"\n",
    "hashtags = extract_hashtags(sample_text)\n",
    "print(hashtags)\n"
   ]
  },
  {
   "cell_type": "code",
   "execution_count": 57,
   "id": "67665715",
   "metadata": {},
   "outputs": [
    {
     "name": "stdout",
     "output_type": "stream",
     "text": [
      "@Jags123456 Bharat band on 28??<ed><ed>Those who  are protesting #demonetization  are all different party leaders\n"
     ]
    }
   ],
   "source": [
    "#Question:28\n",
    "\n",
    "def remove_symbols(text):\n",
    "    pattern = r'<U\\+\\w+>'\n",
    "    modified_text = re.sub(pattern, '', text)\n",
    "    return modified_text\n",
    "\n",
    "# Test the function\n",
    "sample_text = \"@Jags123456 Bharat band on 28??<ed><U+00A0><U+00BD><ed><U+00B8><U+0082>Those who  are protesting #demonetization  are all different party leaders\"\n",
    "modified_text = remove_symbols(sample_text)\n",
    "print(modified_text)"
   ]
  },
  {
   "cell_type": "code",
   "execution_count": 58,
   "id": "294bf193",
   "metadata": {},
   "outputs": [
    {
     "name": "stdout",
     "output_type": "stream",
     "text": [
      "['12-09-1992', '15-12-1999']\n"
     ]
    }
   ],
   "source": [
    "import re\n",
    "\n",
    "def extract_dates(text):\n",
    "  dates = re.findall(r\"\\d{2}-\\d{2}-\\d{4}\", text)\n",
    "  return dates\n",
    "\n",
    "if __name__ == \"__main__\":\n",
    "  text = open(\"sample.txt\", \"r\").read()\n",
    "  dates = extract_dates(text)\n",
    "  print(dates)"
   ]
  },
  {
   "cell_type": "code",
   "execution_count": 59,
   "id": "b69bcca4",
   "metadata": {},
   "outputs": [
    {
     "name": "stdout",
     "output_type": "stream",
     "text": [
      "Python:Exercises::PHP:exercises:\n"
     ]
    }
   ],
   "source": [
    "#Question:30\n",
    "\n",
    "def replace_spaces_commas_dots(text):\n",
    "    pattern = r'[ ,.]'\n",
    "    modified_text = re.sub(pattern, ':', text)\n",
    "    return modified_text\n",
    "\n",
    "# Test the function\n",
    "sample_text = 'Python Exercises, PHP exercises.'\n",
    "modified_text = replace_spaces_commas_dots(sample_text)\n",
    "print(modified_text)"
   ]
  },
  {
   "cell_type": "code",
   "execution_count": null,
   "id": "302fb71a",
   "metadata": {},
   "outputs": [],
   "source": []
  }
 ],
 "metadata": {
  "kernelspec": {
   "display_name": "Python 3 (ipykernel)",
   "language": "python",
   "name": "python3"
  },
  "language_info": {
   "codemirror_mode": {
    "name": "ipython",
    "version": 3
   },
   "file_extension": ".py",
   "mimetype": "text/x-python",
   "name": "python",
   "nbconvert_exporter": "python",
   "pygments_lexer": "ipython3",
   "version": "3.9.13"
  }
 },
 "nbformat": 4,
 "nbformat_minor": 5
}
